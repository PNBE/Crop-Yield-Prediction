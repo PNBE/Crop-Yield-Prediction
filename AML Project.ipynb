{
 "cells": [
  {
   "cell_type": "markdown",
   "id": "4c14ed60",
   "metadata": {},
   "source": [
    "https://drive.google.com/file/d/1l_O9ypTixG56zIRTg14Zt3KdSC5vnjz5/view?usp=share_link"
   ]
  },
  {
   "cell_type": "code",
   "execution_count": 1,
   "id": "fe32df1e",
   "metadata": {},
   "outputs": [],
   "source": [
    "import warnings\n",
    "warnings.filterwarnings(\"ignore\")"
   ]
  },
  {
   "cell_type": "code",
   "execution_count": 2,
   "id": "b74dcacc",
   "metadata": {},
   "outputs": [
    {
     "data": {
      "text/html": [
       "<div>\n",
       "<style scoped>\n",
       "    .dataframe tbody tr th:only-of-type {\n",
       "        vertical-align: middle;\n",
       "    }\n",
       "\n",
       "    .dataframe tbody tr th {\n",
       "        vertical-align: top;\n",
       "    }\n",
       "\n",
       "    .dataframe thead th {\n",
       "        text-align: right;\n",
       "    }\n",
       "</style>\n",
       "<table border=\"1\" class=\"dataframe\">\n",
       "  <thead>\n",
       "    <tr style=\"text-align: right;\">\n",
       "      <th></th>\n",
       "      <th>Unnamed: 0</th>\n",
       "      <th>Area</th>\n",
       "      <th>Item</th>\n",
       "      <th>Year</th>\n",
       "      <th>hg/ha_yield</th>\n",
       "      <th>average_rain_fall_mm_per_year</th>\n",
       "      <th>pesticides_tonnes</th>\n",
       "      <th>avg_temp</th>\n",
       "    </tr>\n",
       "  </thead>\n",
       "  <tbody>\n",
       "    <tr>\n",
       "      <th>0</th>\n",
       "      <td>0</td>\n",
       "      <td>Albania</td>\n",
       "      <td>Maize</td>\n",
       "      <td>1990</td>\n",
       "      <td>36613</td>\n",
       "      <td>1485.0</td>\n",
       "      <td>121.00</td>\n",
       "      <td>16.37</td>\n",
       "    </tr>\n",
       "    <tr>\n",
       "      <th>1</th>\n",
       "      <td>1</td>\n",
       "      <td>Albania</td>\n",
       "      <td>Potatoes</td>\n",
       "      <td>1990</td>\n",
       "      <td>66667</td>\n",
       "      <td>1485.0</td>\n",
       "      <td>121.00</td>\n",
       "      <td>16.37</td>\n",
       "    </tr>\n",
       "    <tr>\n",
       "      <th>2</th>\n",
       "      <td>2</td>\n",
       "      <td>Albania</td>\n",
       "      <td>Rice, paddy</td>\n",
       "      <td>1990</td>\n",
       "      <td>23333</td>\n",
       "      <td>1485.0</td>\n",
       "      <td>121.00</td>\n",
       "      <td>16.37</td>\n",
       "    </tr>\n",
       "    <tr>\n",
       "      <th>3</th>\n",
       "      <td>3</td>\n",
       "      <td>Albania</td>\n",
       "      <td>Sorghum</td>\n",
       "      <td>1990</td>\n",
       "      <td>12500</td>\n",
       "      <td>1485.0</td>\n",
       "      <td>121.00</td>\n",
       "      <td>16.37</td>\n",
       "    </tr>\n",
       "    <tr>\n",
       "      <th>4</th>\n",
       "      <td>4</td>\n",
       "      <td>Albania</td>\n",
       "      <td>Soybeans</td>\n",
       "      <td>1990</td>\n",
       "      <td>7000</td>\n",
       "      <td>1485.0</td>\n",
       "      <td>121.00</td>\n",
       "      <td>16.37</td>\n",
       "    </tr>\n",
       "    <tr>\n",
       "      <th>...</th>\n",
       "      <td>...</td>\n",
       "      <td>...</td>\n",
       "      <td>...</td>\n",
       "      <td>...</td>\n",
       "      <td>...</td>\n",
       "      <td>...</td>\n",
       "      <td>...</td>\n",
       "      <td>...</td>\n",
       "    </tr>\n",
       "    <tr>\n",
       "      <th>28237</th>\n",
       "      <td>28237</td>\n",
       "      <td>Zimbabwe</td>\n",
       "      <td>Rice, paddy</td>\n",
       "      <td>2013</td>\n",
       "      <td>22581</td>\n",
       "      <td>657.0</td>\n",
       "      <td>2550.07</td>\n",
       "      <td>19.76</td>\n",
       "    </tr>\n",
       "    <tr>\n",
       "      <th>28238</th>\n",
       "      <td>28238</td>\n",
       "      <td>Zimbabwe</td>\n",
       "      <td>Sorghum</td>\n",
       "      <td>2013</td>\n",
       "      <td>3066</td>\n",
       "      <td>657.0</td>\n",
       "      <td>2550.07</td>\n",
       "      <td>19.76</td>\n",
       "    </tr>\n",
       "    <tr>\n",
       "      <th>28239</th>\n",
       "      <td>28239</td>\n",
       "      <td>Zimbabwe</td>\n",
       "      <td>Soybeans</td>\n",
       "      <td>2013</td>\n",
       "      <td>13142</td>\n",
       "      <td>657.0</td>\n",
       "      <td>2550.07</td>\n",
       "      <td>19.76</td>\n",
       "    </tr>\n",
       "    <tr>\n",
       "      <th>28240</th>\n",
       "      <td>28240</td>\n",
       "      <td>Zimbabwe</td>\n",
       "      <td>Sweet potatoes</td>\n",
       "      <td>2013</td>\n",
       "      <td>22222</td>\n",
       "      <td>657.0</td>\n",
       "      <td>2550.07</td>\n",
       "      <td>19.76</td>\n",
       "    </tr>\n",
       "    <tr>\n",
       "      <th>28241</th>\n",
       "      <td>28241</td>\n",
       "      <td>Zimbabwe</td>\n",
       "      <td>Wheat</td>\n",
       "      <td>2013</td>\n",
       "      <td>22888</td>\n",
       "      <td>657.0</td>\n",
       "      <td>2550.07</td>\n",
       "      <td>19.76</td>\n",
       "    </tr>\n",
       "  </tbody>\n",
       "</table>\n",
       "<p>28242 rows × 8 columns</p>\n",
       "</div>"
      ],
      "text/plain": [
       "       Unnamed: 0      Area            Item  Year  hg/ha_yield  \\\n",
       "0               0   Albania           Maize  1990        36613   \n",
       "1               1   Albania        Potatoes  1990        66667   \n",
       "2               2   Albania     Rice, paddy  1990        23333   \n",
       "3               3   Albania         Sorghum  1990        12500   \n",
       "4               4   Albania        Soybeans  1990         7000   \n",
       "...           ...       ...             ...   ...          ...   \n",
       "28237       28237  Zimbabwe     Rice, paddy  2013        22581   \n",
       "28238       28238  Zimbabwe         Sorghum  2013         3066   \n",
       "28239       28239  Zimbabwe        Soybeans  2013        13142   \n",
       "28240       28240  Zimbabwe  Sweet potatoes  2013        22222   \n",
       "28241       28241  Zimbabwe           Wheat  2013        22888   \n",
       "\n",
       "       average_rain_fall_mm_per_year  pesticides_tonnes  avg_temp  \n",
       "0                             1485.0             121.00     16.37  \n",
       "1                             1485.0             121.00     16.37  \n",
       "2                             1485.0             121.00     16.37  \n",
       "3                             1485.0             121.00     16.37  \n",
       "4                             1485.0             121.00     16.37  \n",
       "...                              ...                ...       ...  \n",
       "28237                          657.0            2550.07     19.76  \n",
       "28238                          657.0            2550.07     19.76  \n",
       "28239                          657.0            2550.07     19.76  \n",
       "28240                          657.0            2550.07     19.76  \n",
       "28241                          657.0            2550.07     19.76  \n",
       "\n",
       "[28242 rows x 8 columns]"
      ]
     },
     "execution_count": 2,
     "metadata": {},
     "output_type": "execute_result"
    }
   ],
   "source": [
    "import pandas as pd\n",
    "\n",
    "df = pd.read_csv('yield_df.csv')\n",
    "df"
   ]
  },
  {
   "cell_type": "code",
   "execution_count": 3,
   "id": "10be1e56",
   "metadata": {},
   "outputs": [
    {
     "data": {
      "text/html": [
       "<div>\n",
       "<style scoped>\n",
       "    .dataframe tbody tr th:only-of-type {\n",
       "        vertical-align: middle;\n",
       "    }\n",
       "\n",
       "    .dataframe tbody tr th {\n",
       "        vertical-align: top;\n",
       "    }\n",
       "\n",
       "    .dataframe thead th {\n",
       "        text-align: right;\n",
       "    }\n",
       "</style>\n",
       "<table border=\"1\" class=\"dataframe\">\n",
       "  <thead>\n",
       "    <tr style=\"text-align: right;\">\n",
       "      <th></th>\n",
       "      <th>Area</th>\n",
       "      <th>Item</th>\n",
       "      <th>hg/ha_yield</th>\n",
       "      <th>average_rain_fall_mm_per_year</th>\n",
       "      <th>pesticides_tonnes</th>\n",
       "      <th>avg_temp</th>\n",
       "    </tr>\n",
       "  </thead>\n",
       "  <tbody>\n",
       "    <tr>\n",
       "      <th>26127</th>\n",
       "      <td>Switzerland</td>\n",
       "      <td>Potatoes</td>\n",
       "      <td>390936</td>\n",
       "      <td>1537.0</td>\n",
       "      <td>1526.60</td>\n",
       "      <td>8.42</td>\n",
       "    </tr>\n",
       "    <tr>\n",
       "      <th>11408</th>\n",
       "      <td>India</td>\n",
       "      <td>Maize</td>\n",
       "      <td>15946</td>\n",
       "      <td>1083.0</td>\n",
       "      <td>61257.00</td>\n",
       "      <td>25.44</td>\n",
       "    </tr>\n",
       "    <tr>\n",
       "      <th>9567</th>\n",
       "      <td>Guatemala</td>\n",
       "      <td>Potatoes</td>\n",
       "      <td>224631</td>\n",
       "      <td>1996.0</td>\n",
       "      <td>9665.14</td>\n",
       "      <td>19.47</td>\n",
       "    </tr>\n",
       "    <tr>\n",
       "      <th>4189</th>\n",
       "      <td>Brazil</td>\n",
       "      <td>Soybeans</td>\n",
       "      <td>28133</td>\n",
       "      <td>1761.0</td>\n",
       "      <td>304031.00</td>\n",
       "      <td>25.95</td>\n",
       "    </tr>\n",
       "    <tr>\n",
       "      <th>22667</th>\n",
       "      <td>Pakistan</td>\n",
       "      <td>Rice, paddy</td>\n",
       "      <td>31604</td>\n",
       "      <td>494.0</td>\n",
       "      <td>6925.13</td>\n",
       "      <td>27.29</td>\n",
       "    </tr>\n",
       "    <tr>\n",
       "      <th>5818</th>\n",
       "      <td>Canada</td>\n",
       "      <td>Maize</td>\n",
       "      <td>62844</td>\n",
       "      <td>537.0</td>\n",
       "      <td>39667.00</td>\n",
       "      <td>6.93</td>\n",
       "    </tr>\n",
       "    <tr>\n",
       "      <th>27676</th>\n",
       "      <td>United Kingdom</td>\n",
       "      <td>Potatoes</td>\n",
       "      <td>438841</td>\n",
       "      <td>1220.0</td>\n",
       "      <td>16770.87</td>\n",
       "      <td>7.43</td>\n",
       "    </tr>\n",
       "    <tr>\n",
       "      <th>27123</th>\n",
       "      <td>Turkey</td>\n",
       "      <td>Maize</td>\n",
       "      <td>89499</td>\n",
       "      <td>593.0</td>\n",
       "      <td>39440.00</td>\n",
       "      <td>16.02</td>\n",
       "    </tr>\n",
       "    <tr>\n",
       "      <th>24526</th>\n",
       "      <td>Slovenia</td>\n",
       "      <td>Wheat</td>\n",
       "      <td>41907</td>\n",
       "      <td>1162.0</td>\n",
       "      <td>1280.98</td>\n",
       "      <td>10.56</td>\n",
       "    </tr>\n",
       "    <tr>\n",
       "      <th>16873</th>\n",
       "      <td>Japan</td>\n",
       "      <td>Soybeans</td>\n",
       "      <td>16392</td>\n",
       "      <td>1668.0</td>\n",
       "      <td>61164.07</td>\n",
       "      <td>16.53</td>\n",
       "    </tr>\n",
       "  </tbody>\n",
       "</table>\n",
       "</div>"
      ],
      "text/plain": [
       "                 Area         Item  hg/ha_yield  \\\n",
       "26127     Switzerland     Potatoes       390936   \n",
       "11408           India        Maize        15946   \n",
       "9567        Guatemala     Potatoes       224631   \n",
       "4189           Brazil     Soybeans        28133   \n",
       "22667        Pakistan  Rice, paddy        31604   \n",
       "5818           Canada        Maize        62844   \n",
       "27676  United Kingdom     Potatoes       438841   \n",
       "27123          Turkey        Maize        89499   \n",
       "24526        Slovenia        Wheat        41907   \n",
       "16873           Japan     Soybeans        16392   \n",
       "\n",
       "       average_rain_fall_mm_per_year  pesticides_tonnes  avg_temp  \n",
       "26127                         1537.0            1526.60      8.42  \n",
       "11408                         1083.0           61257.00     25.44  \n",
       "9567                          1996.0            9665.14     19.47  \n",
       "4189                          1761.0          304031.00     25.95  \n",
       "22667                          494.0            6925.13     27.29  \n",
       "5818                           537.0           39667.00      6.93  \n",
       "27676                         1220.0           16770.87      7.43  \n",
       "27123                          593.0           39440.00     16.02  \n",
       "24526                         1162.0            1280.98     10.56  \n",
       "16873                         1668.0           61164.07     16.53  "
      ]
     },
     "execution_count": 3,
     "metadata": {},
     "output_type": "execute_result"
    }
   ],
   "source": [
    "## Droping of 'Unnamed: 0' and 'Year' column\n",
    "\n",
    "df.drop(['Unnamed: 0', 'Year'], axis = 1, inplace = True)\n",
    "df.sample(10)"
   ]
  },
  {
   "cell_type": "markdown",
   "id": "4842a7d3",
   "metadata": {},
   "source": [
    "#### Observations :-\n",
    "\n",
    "1) ['Area', 'Item', 'average_rain_fall_mm_per_year',\n",
    "       'pesticides_tonnes', 'avg_temp'] are predictors.\n",
    "       \n",
    "2) ['hg/ha_yield'] is Response variable."
   ]
  },
  {
   "cell_type": "code",
   "execution_count": 4,
   "id": "fada05fb",
   "metadata": {},
   "outputs": [
    {
     "name": "stdout",
     "output_type": "stream",
     "text": [
      "<class 'pandas.core.frame.DataFrame'>\n",
      "RangeIndex: 28242 entries, 0 to 28241\n",
      "Data columns (total 6 columns):\n",
      " #   Column                         Non-Null Count  Dtype  \n",
      "---  ------                         --------------  -----  \n",
      " 0   Area                           28242 non-null  object \n",
      " 1   Item                           28242 non-null  object \n",
      " 2   hg/ha_yield                    28242 non-null  int64  \n",
      " 3   average_rain_fall_mm_per_year  28242 non-null  float64\n",
      " 4   pesticides_tonnes              28242 non-null  float64\n",
      " 5   avg_temp                       28242 non-null  float64\n",
      "dtypes: float64(3), int64(1), object(2)\n",
      "memory usage: 1.3+ MB\n"
     ]
    }
   ],
   "source": [
    "## Check for missing values and data types of each columns\n",
    "\n",
    "df.info()"
   ]
  },
  {
   "cell_type": "markdown",
   "id": "ba09e66d",
   "metadata": {},
   "source": [
    "#### Observations :-\n",
    "\n",
    "1) No Null values."
   ]
  },
  {
   "cell_type": "markdown",
   "id": "ab73c7c0",
   "metadata": {},
   "source": [
    "# EDA"
   ]
  },
  {
   "cell_type": "code",
   "execution_count": 5,
   "id": "8fc2ee50",
   "metadata": {},
   "outputs": [
    {
     "data": {
      "text/plain": [
       "Area\n",
       "India         327420324\n",
       "Brazil        167550306\n",
       "Mexico        130788528\n",
       "Japan         124470912\n",
       "Australia     109111062\n",
       "                ...    \n",
       "Namibia         3165475\n",
       "Sudan           1896346\n",
       "Montenegro      1645100\n",
       "Eritrea         1452416\n",
       "Botswana         470651\n",
       "Name: hg/ha_yield, Length: 101, dtype: int64"
      ]
     },
     "execution_count": 5,
     "metadata": {},
     "output_type": "execute_result"
    }
   ],
   "source": [
    "## to get the country which produces the most\n",
    "\n",
    "df.groupby(['Area'])['hg/ha_yield'].sum().sort_values(ascending=False)"
   ]
  },
  {
   "cell_type": "markdown",
   "id": "9ad17f93",
   "metadata": {},
   "source": [
    "#### Observations :-\n",
    "\n",
    "India is the largest producer of crops."
   ]
  },
  {
   "cell_type": "code",
   "execution_count": 6,
   "id": "efbb3773",
   "metadata": {},
   "outputs": [
    {
     "data": {
      "text/plain": [
       "Item\n",
       "Potatoes                854351426\n",
       "Sweet potatoes          344077024\n",
       "Cassava                 307730510\n",
       "Maize                   149633801\n",
       "Rice, paddy             137994713\n",
       "Wheat                   116158445\n",
       "Yams                     96676873\n",
       "Plantains and others     58958974\n",
       "Sorghum                  56634127\n",
       "Soybeans                 53924312\n",
       "Name: hg/ha_yield, dtype: int64"
      ]
     },
     "execution_count": 6,
     "metadata": {},
     "output_type": "execute_result"
    }
   ],
   "source": [
    "## to get the Item which is to be produced the most\n",
    "\n",
    "df.groupby(['Item'])['hg/ha_yield'].sum().sort_values(ascending=False)"
   ]
  },
  {
   "cell_type": "markdown",
   "id": "09029274",
   "metadata": {},
   "source": [
    "#### Observations :-\n",
    "\n",
    "Potatoes is produced most among all the crops."
   ]
  },
  {
   "cell_type": "code",
   "execution_count": 7,
   "id": "cf93c158",
   "metadata": {},
   "outputs": [
    {
     "name": "stdout",
     "output_type": "stream",
     "text": [
      "Item             Cassava\n",
      "Area               India\n",
      "hg/ha_yield    142810624\n",
      "Name: 0, dtype: object\n",
      "--------------------------------------------------\n",
      "Item           Potatoes\n",
      "Area              India\n",
      "hg/ha_yield    92122514\n",
      "Name: 1, dtype: object\n",
      "--------------------------------------------------\n",
      "Item           Sweet potatoes\n",
      "Area                    India\n",
      "hg/ha_yield          44439538\n",
      "Name: 5, dtype: object\n",
      "--------------------------------------------------\n",
      "Item               Yams\n",
      "Area              Japan\n",
      "hg/ha_yield    29165394\n",
      "Name: 14, dtype: object\n",
      "--------------------------------------------------\n",
      "Item           Rice, paddy\n",
      "Area                 India\n",
      "hg/ha_yield       15329644\n",
      "Name: 25, dtype: object\n",
      "--------------------------------------------------\n",
      "Item              Wheat\n",
      "Area              India\n",
      "hg/ha_yield    13432694\n",
      "Name: 27, dtype: object\n",
      "--------------------------------------------------\n",
      "Item              Maize\n",
      "Area             Canada\n",
      "hg/ha_yield    10721406\n",
      "Name: 34, dtype: object\n",
      "--------------------------------------------------\n",
      "Item           Plantains and others\n",
      "Area                      Guatemala\n",
      "hg/ha_yield                 6695215\n",
      "Name: 61, dtype: object\n",
      "--------------------------------------------------\n",
      "Item           Sorghum\n",
      "Area            Mexico\n",
      "hg/ha_yield    6222416\n",
      "Name: 66, dtype: object\n",
      "--------------------------------------------------\n",
      "Item           Soybeans\n",
      "Area             Brazil\n",
      "hg/ha_yield     6113646\n",
      "Name: 69, dtype: object\n",
      "--------------------------------------------------\n"
     ]
    }
   ],
   "source": [
    "## to get the top producer for each items\n",
    "\n",
    "groupby_item_area = df.groupby(['Item', 'Area'])['hg/ha_yield'].sum().sort_values(ascending=False).reset_index()\n",
    "\n",
    "for i in groupby_item_area['Item'].unique():\n",
    "    print(groupby_item_area[groupby_item_area['Item']==i].iloc[0, :])\n",
    "    print('--------------------------------------------------')"
   ]
  },
  {
   "cell_type": "markdown",
   "id": "74c79208",
   "metadata": {},
   "source": [
    "#### Observations :-\n",
    "\n",
    "1) India is the largest producer of Cassava, Potatoes, Sweet potatoes, Rice, Paddy and Wheat.\n",
    "\n",
    "2) Japan is the largest producer of Yams.\n",
    "\n",
    "3) Canada is the largest producer of Maize.\n",
    "\n",
    "4) Guatemala is the largest producer of Plantains and others.\n",
    "\n",
    "5) Mexico is the largest producer of Sorghum.\n",
    "\n",
    "6) Brazil is the largest producer of Soybeans."
   ]
  },
  {
   "cell_type": "code",
   "execution_count": 8,
   "id": "3168cc8b",
   "metadata": {},
   "outputs": [
    {
     "data": {
      "text/html": [
       "<div>\n",
       "<style scoped>\n",
       "    .dataframe tbody tr th:only-of-type {\n",
       "        vertical-align: middle;\n",
       "    }\n",
       "\n",
       "    .dataframe tbody tr th {\n",
       "        vertical-align: top;\n",
       "    }\n",
       "\n",
       "    .dataframe thead th {\n",
       "        text-align: right;\n",
       "    }\n",
       "</style>\n",
       "<table border=\"1\" class=\"dataframe\">\n",
       "  <thead>\n",
       "    <tr style=\"text-align: right;\">\n",
       "      <th></th>\n",
       "      <th>hg/ha_yield</th>\n",
       "      <th>average_rain_fall_mm_per_year</th>\n",
       "      <th>pesticides_tonnes</th>\n",
       "      <th>avg_temp</th>\n",
       "    </tr>\n",
       "  </thead>\n",
       "  <tbody>\n",
       "    <tr>\n",
       "      <th>hg/ha_yield</th>\n",
       "      <td>1.000000</td>\n",
       "      <td>0.000962</td>\n",
       "      <td>0.064085</td>\n",
       "      <td>-0.114777</td>\n",
       "    </tr>\n",
       "    <tr>\n",
       "      <th>average_rain_fall_mm_per_year</th>\n",
       "      <td>0.000962</td>\n",
       "      <td>1.000000</td>\n",
       "      <td>0.180984</td>\n",
       "      <td>0.313040</td>\n",
       "    </tr>\n",
       "    <tr>\n",
       "      <th>pesticides_tonnes</th>\n",
       "      <td>0.064085</td>\n",
       "      <td>0.180984</td>\n",
       "      <td>1.000000</td>\n",
       "      <td>0.030946</td>\n",
       "    </tr>\n",
       "    <tr>\n",
       "      <th>avg_temp</th>\n",
       "      <td>-0.114777</td>\n",
       "      <td>0.313040</td>\n",
       "      <td>0.030946</td>\n",
       "      <td>1.000000</td>\n",
       "    </tr>\n",
       "  </tbody>\n",
       "</table>\n",
       "</div>"
      ],
      "text/plain": [
       "                               hg/ha_yield  average_rain_fall_mm_per_year  \\\n",
       "hg/ha_yield                       1.000000                       0.000962   \n",
       "average_rain_fall_mm_per_year     0.000962                       1.000000   \n",
       "pesticides_tonnes                 0.064085                       0.180984   \n",
       "avg_temp                         -0.114777                       0.313040   \n",
       "\n",
       "                               pesticides_tonnes  avg_temp  \n",
       "hg/ha_yield                             0.064085 -0.114777  \n",
       "average_rain_fall_mm_per_year           0.180984  0.313040  \n",
       "pesticides_tonnes                       1.000000  0.030946  \n",
       "avg_temp                                0.030946  1.000000  "
      ]
     },
     "execution_count": 8,
     "metadata": {},
     "output_type": "execute_result"
    }
   ],
   "source": [
    "## Correlation table\n",
    "\n",
    "df[['hg/ha_yield', 'average_rain_fall_mm_per_year', 'pesticides_tonnes', 'avg_temp']].corr()"
   ]
  },
  {
   "cell_type": "markdown",
   "id": "cffb8ca8",
   "metadata": {},
   "source": [
    "#### Observatons :-\n",
    "\n",
    "1) Corr. between average_rain_fall and yield is very small.\n",
    "\n",
    "2) Corr. between pesticides and yield is also small.\n",
    "\n",
    "3) There is no Multi-colinearity."
   ]
  },
  {
   "cell_type": "code",
   "execution_count": 9,
   "id": "a8853154",
   "metadata": {},
   "outputs": [
    {
     "data": {
      "image/png": "[encoded data removed]",
      "text/plain": [
       "<Figure size 1080x360 with 2 Axes>"
      ]
     },
     "metadata": {
      "needs_background": "light"
     },
     "output_type": "display_data"
    },
    {
     "data": {
      "image/png": "[encoded data removed]",
      "text/plain": [
       "<Figure size 1080x360 with 2 Axes>"
      ]
     },
     "metadata": {
      "needs_background": "light"
     },
     "output_type": "display_data"
    },
    {
     "data": {
      "image/png": "[encoded data removed]",
      "text/plain": [
       "<Figure size 1080x360 with 2 Axes>"
      ]
     },
     "metadata": {
      "needs_background": "light"
     },
     "output_type": "display_data"
    },
    {
     "data": {
      "image/png": "[encoded data removed]",
      "text/plain": [
       "<Figure size 1080x360 with 2 Axes>"
      ]
     },
     "metadata": {
      "needs_background": "light"
     },
     "output_type": "display_data"
    }
   ],
   "source": [
    "## Distplot and boxplot of columns\n",
    "\n",
    "import seaborn as sns\n",
    "import matplotlib.pyplot as plt\n",
    "\n",
    "numerical_col = ['hg/ha_yield', 'average_rain_fall_mm_per_year', 'pesticides_tonnes', 'avg_temp']\n",
    "\n",
    "\n",
    "\n",
    "for i in numerical_col :\n",
    "    fig, x = plt.subplots(1,2, figsize=(15, 5))\n",
    "    sns.distplot(df[i], hist=False, ax = x[0])\n",
    "    sns.boxplot(data = df, x = df[i], ax = x[1])\n",
    "    plt.show()"
   ]
  },
  {
   "cell_type": "markdown",
   "id": "85bde1e5",
   "metadata": {},
   "source": [
    "#### Observations :-\n",
    "\n",
    "1) yield is Right skewed and it has outliers.\n",
    "\n",
    "2) average_rain_fall is Right skewed, Multi-model and it doesn't has outliers.\n",
    "\n",
    "3) pesticides is Right skewed and it has some outliers.\n",
    "\n",
    "4) avg_temp is Left skewed and it has some outliers."
   ]
  },
  {
   "cell_type": "markdown",
   "id": "79e63c56",
   "metadata": {},
   "source": [
    "# Data Preprocessing and Feature engineering"
   ]
  },
  {
   "cell_type": "markdown",
   "id": "d1bf2a9d",
   "metadata": {},
   "source": [
    "### Feature Transformation"
   ]
  },
  {
   "cell_type": "code",
   "execution_count": 10,
   "id": "9ec3d59c",
   "metadata": {},
   "outputs": [],
   "source": [
    "## Feature transformation\n",
    "\n",
    "from sklearn.preprocessing import PowerTransformer\n",
    "\n",
    "df0 = df.copy()\n",
    "\n",
    "def apply_transform(transform, X):                  # calling this function we can apply any transform on the particular column\n",
    "    \n",
    "    trf = PowerTransformer(method=transform)         # np.log1p add 1 in np.log i.e. np.log1p = np.log + 1 so that it can also deal with log0\n",
    "\n",
    "    df0[X] = trf.fit_transform(df0[X].to_numpy().reshape(-1, 1))\n",
    "    \n",
    "    # plotting Distplot and boxplot\n",
    "    fig, x = plt.subplots(1,2, figsize=(15, 5))\n",
    "    sns.distplot(df0[X], hist=False, ax = x[0])\n",
    "    sns.boxplot(data = df0, x = df0[X], ax = x[1])\n",
    "    plt.show()"
   ]
  },
  {
   "cell_type": "code",
   "execution_count": 11,
   "id": "bbd616c3",
   "metadata": {},
   "outputs": [
    {
     "data": {
      "image/png": "[encoded data removed]",
      "text/plain": [
       "<Figure size 1080x360 with 2 Axes>"
      ]
     },
     "metadata": {
      "needs_background": "light"
     },
     "output_type": "display_data"
    }
   ],
   "source": [
    "apply_transform('yeo-johnson', 'average_rain_fall_mm_per_year')"
   ]
  },
  {
   "cell_type": "code",
   "execution_count": 12,
   "id": "bcbcb4ca",
   "metadata": {},
   "outputs": [
    {
     "data": {
      "image/png": "[encoded data removed]",
      "text/plain": [
       "<Figure size 1080x360 with 2 Axes>"
      ]
     },
     "metadata": {
      "needs_background": "light"
     },
     "output_type": "display_data"
    }
   ],
   "source": [
    "apply_transform('yeo-johnson', 'pesticides_tonnes')"
   ]
  },
  {
   "cell_type": "code",
   "execution_count": 13,
   "id": "6bfc7809",
   "metadata": {},
   "outputs": [
    {
     "data": {
      "image/png": "[encoded data removed]",
      "text/plain": [
       "<Figure size 1080x360 with 2 Axes>"
      ]
     },
     "metadata": {
      "needs_background": "light"
     },
     "output_type": "display_data"
    }
   ],
   "source": [
    "apply_transform('yeo-johnson', 'avg_temp')"
   ]
  },
  {
   "cell_type": "code",
   "execution_count": 14,
   "id": "118bbca7",
   "metadata": {},
   "outputs": [
    {
     "data": {
      "text/html": [
       "<div>\n",
       "<style scoped>\n",
       "    .dataframe tbody tr th:only-of-type {\n",
       "        vertical-align: middle;\n",
       "    }\n",
       "\n",
       "    .dataframe tbody tr th {\n",
       "        vertical-align: top;\n",
       "    }\n",
       "\n",
       "    .dataframe thead th {\n",
       "        text-align: right;\n",
       "    }\n",
       "</style>\n",
       "<table border=\"1\" class=\"dataframe\">\n",
       "  <thead>\n",
       "    <tr style=\"text-align: right;\">\n",
       "      <th></th>\n",
       "      <th>Area</th>\n",
       "      <th>Item</th>\n",
       "      <th>hg/ha_yield</th>\n",
       "      <th>average_rain_fall_mm_per_year</th>\n",
       "      <th>pesticides_tonnes</th>\n",
       "      <th>avg_temp</th>\n",
       "    </tr>\n",
       "  </thead>\n",
       "  <tbody>\n",
       "    <tr>\n",
       "      <th>0</th>\n",
       "      <td>Albania</td>\n",
       "      <td>Maize</td>\n",
       "      <td>36613</td>\n",
       "      <td>0.602796</td>\n",
       "      <td>-1.542037</td>\n",
       "      <td>-0.810165</td>\n",
       "    </tr>\n",
       "    <tr>\n",
       "      <th>1</th>\n",
       "      <td>Albania</td>\n",
       "      <td>Potatoes</td>\n",
       "      <td>66667</td>\n",
       "      <td>0.602796</td>\n",
       "      <td>-1.542037</td>\n",
       "      <td>-0.810165</td>\n",
       "    </tr>\n",
       "    <tr>\n",
       "      <th>2</th>\n",
       "      <td>Albania</td>\n",
       "      <td>Rice, paddy</td>\n",
       "      <td>23333</td>\n",
       "      <td>0.602796</td>\n",
       "      <td>-1.542037</td>\n",
       "      <td>-0.810165</td>\n",
       "    </tr>\n",
       "    <tr>\n",
       "      <th>3</th>\n",
       "      <td>Albania</td>\n",
       "      <td>Sorghum</td>\n",
       "      <td>12500</td>\n",
       "      <td>0.602796</td>\n",
       "      <td>-1.542037</td>\n",
       "      <td>-0.810165</td>\n",
       "    </tr>\n",
       "    <tr>\n",
       "      <th>4</th>\n",
       "      <td>Albania</td>\n",
       "      <td>Soybeans</td>\n",
       "      <td>7000</td>\n",
       "      <td>0.602796</td>\n",
       "      <td>-1.542037</td>\n",
       "      <td>-0.810165</td>\n",
       "    </tr>\n",
       "    <tr>\n",
       "      <th>...</th>\n",
       "      <td>...</td>\n",
       "      <td>...</td>\n",
       "      <td>...</td>\n",
       "      <td>...</td>\n",
       "      <td>...</td>\n",
       "      <td>...</td>\n",
       "    </tr>\n",
       "    <tr>\n",
       "      <th>28237</th>\n",
       "      <td>Zimbabwe</td>\n",
       "      <td>Rice, paddy</td>\n",
       "      <td>22581</td>\n",
       "      <td>-0.600969</td>\n",
       "      <td>-0.698807</td>\n",
       "      <td>-0.280644</td>\n",
       "    </tr>\n",
       "    <tr>\n",
       "      <th>28238</th>\n",
       "      <td>Zimbabwe</td>\n",
       "      <td>Sorghum</td>\n",
       "      <td>3066</td>\n",
       "      <td>-0.600969</td>\n",
       "      <td>-0.698807</td>\n",
       "      <td>-0.280644</td>\n",
       "    </tr>\n",
       "    <tr>\n",
       "      <th>28239</th>\n",
       "      <td>Zimbabwe</td>\n",
       "      <td>Soybeans</td>\n",
       "      <td>13142</td>\n",
       "      <td>-0.600969</td>\n",
       "      <td>-0.698807</td>\n",
       "      <td>-0.280644</td>\n",
       "    </tr>\n",
       "    <tr>\n",
       "      <th>28240</th>\n",
       "      <td>Zimbabwe</td>\n",
       "      <td>Sweet potatoes</td>\n",
       "      <td>22222</td>\n",
       "      <td>-0.600969</td>\n",
       "      <td>-0.698807</td>\n",
       "      <td>-0.280644</td>\n",
       "    </tr>\n",
       "    <tr>\n",
       "      <th>28241</th>\n",
       "      <td>Zimbabwe</td>\n",
       "      <td>Wheat</td>\n",
       "      <td>22888</td>\n",
       "      <td>-0.600969</td>\n",
       "      <td>-0.698807</td>\n",
       "      <td>-0.280644</td>\n",
       "    </tr>\n",
       "  </tbody>\n",
       "</table>\n",
       "<p>28242 rows × 6 columns</p>\n",
       "</div>"
      ],
      "text/plain": [
       "           Area            Item  hg/ha_yield  average_rain_fall_mm_per_year  \\\n",
       "0       Albania           Maize        36613                       0.602796   \n",
       "1       Albania        Potatoes        66667                       0.602796   \n",
       "2       Albania     Rice, paddy        23333                       0.602796   \n",
       "3       Albania         Sorghum        12500                       0.602796   \n",
       "4       Albania        Soybeans         7000                       0.602796   \n",
       "...         ...             ...          ...                            ...   \n",
       "28237  Zimbabwe     Rice, paddy        22581                      -0.600969   \n",
       "28238  Zimbabwe         Sorghum         3066                      -0.600969   \n",
       "28239  Zimbabwe        Soybeans        13142                      -0.600969   \n",
       "28240  Zimbabwe  Sweet potatoes        22222                      -0.600969   \n",
       "28241  Zimbabwe           Wheat        22888                      -0.600969   \n",
       "\n",
       "       pesticides_tonnes  avg_temp  \n",
       "0              -1.542037 -0.810165  \n",
       "1              -1.542037 -0.810165  \n",
       "2              -1.542037 -0.810165  \n",
       "3              -1.542037 -0.810165  \n",
       "4              -1.542037 -0.810165  \n",
       "...                  ...       ...  \n",
       "28237          -0.698807 -0.280644  \n",
       "28238          -0.698807 -0.280644  \n",
       "28239          -0.698807 -0.280644  \n",
       "28240          -0.698807 -0.280644  \n",
       "28241          -0.698807 -0.280644  \n",
       "\n",
       "[28242 rows x 6 columns]"
      ]
     },
     "execution_count": 14,
     "metadata": {},
     "output_type": "execute_result"
    }
   ],
   "source": [
    "df0"
   ]
  },
  {
   "cell_type": "markdown",
   "id": "c3455080",
   "metadata": {},
   "source": [
    "### One Hot Encoding"
   ]
  },
  {
   "cell_type": "code",
   "execution_count": 15,
   "id": "5ef69305",
   "metadata": {},
   "outputs": [
    {
     "data": {
      "text/plain": [
       "array([[0., 0., 0., ..., 0., 0., 0.],\n",
       "       [0., 0., 0., ..., 0., 0., 0.],\n",
       "       [0., 0., 0., ..., 0., 0., 0.],\n",
       "       ...,\n",
       "       [0., 0., 0., ..., 0., 0., 0.],\n",
       "       [0., 0., 0., ..., 1., 0., 0.],\n",
       "       [0., 0., 0., ..., 0., 1., 0.]])"
      ]
     },
     "execution_count": 15,
     "metadata": {},
     "output_type": "execute_result"
    }
   ],
   "source": [
    "## One Hot Encoding\n",
    "\n",
    "from sklearn.preprocessing import OneHotEncoder\n",
    "\n",
    "ohe = OneHotEncoder(drop='first',sparse=False)\n",
    "df_OHE = ohe.fit_transform(df0[['Area','Item']])\n",
    "df_OHE"
   ]
  },
  {
   "cell_type": "code",
   "execution_count": 16,
   "id": "88c09be6",
   "metadata": {},
   "outputs": [
    {
     "data": {
      "text/plain": [
       "array([[ 0.        ,  0.        ,  0.        , ...,  0.6027959 ,\n",
       "        -1.54203721, -0.8101654 ],\n",
       "       [ 0.        ,  0.        ,  0.        , ...,  0.6027959 ,\n",
       "        -1.54203721, -0.8101654 ],\n",
       "       [ 0.        ,  0.        ,  0.        , ...,  0.6027959 ,\n",
       "        -1.54203721, -0.8101654 ],\n",
       "       ...,\n",
       "       [ 0.        ,  0.        ,  0.        , ..., -0.6009691 ,\n",
       "        -0.69880716, -0.2806444 ],\n",
       "       [ 0.        ,  0.        ,  0.        , ..., -0.6009691 ,\n",
       "        -0.69880716, -0.2806444 ],\n",
       "       [ 0.        ,  0.        ,  0.        , ..., -0.6009691 ,\n",
       "        -0.69880716, -0.2806444 ]])"
      ]
     },
     "execution_count": 16,
     "metadata": {},
     "output_type": "execute_result"
    }
   ],
   "source": [
    "## after OHE, we concatenate the encoded numpy array with the array of remaining df0\n",
    "\n",
    "import numpy as np\n",
    "\n",
    "df1 = np.hstack(((df_OHE), df0[['hg/ha_yield', 'average_rain_fall_mm_per_year', 'pesticides_tonnes', 'avg_temp']].values))\n",
    "df1"
   ]
  },
  {
   "cell_type": "markdown",
   "id": "259f9bb4",
   "metadata": {},
   "source": [
    "### IsolationForest"
   ]
  },
  {
   "cell_type": "code",
   "execution_count": 17,
   "id": "3571d389",
   "metadata": {},
   "outputs": [
    {
     "data": {
      "text/html": [
       "<style>#sk-container-id-1 {color: black;background-color: white;}#sk-container-id-1 pre{padding: 0;}#sk-container-id-1 div.sk-toggleable {background-color: white;}#sk-container-id-1 label.sk-toggleable__label {cursor: pointer;display: block;width: 100%;margin-bottom: 0;padding: 0.3em;box-sizing: border-box;text-align: center;}#sk-container-id-1 label.sk-toggleable__label-arrow:before {content: \"▸\";float: left;margin-right: 0.25em;color: #696969;}#sk-container-id-1 label.sk-toggleable__label-arrow:hover:before {color: black;}#sk-container-id-1 div.sk-estimator:hover label.sk-toggleable__label-arrow:before {color: black;}#sk-container-id-1 div.sk-toggleable__content {max-height: 0;max-width: 0;overflow: hidden;text-align: left;background-color: #f0f8ff;}#sk-container-id-1 div.sk-toggleable__content pre {margin: 0.2em;color: black;border-radius: 0.25em;background-color: #f0f8ff;}#sk-container-id-1 input.sk-toggleable__control:checked~div.sk-toggleable__content {max-height: 200px;max-width: 100%;overflow: auto;}#sk-container-id-1 input.sk-toggleable__control:checked~label.sk-toggleable__label-arrow:before {content: \"▾\";}#sk-container-id-1 div.sk-estimator input.sk-toggleable__control:checked~label.sk-toggleable__label {background-color: #d4ebff;}#sk-container-id-1 div.sk-label input.sk-toggleable__control:checked~label.sk-toggleable__label {background-color: #d4ebff;}#sk-container-id-1 input.sk-hidden--visually {border: 0;clip: rect(1px 1px 1px 1px);clip: rect(1px, 1px, 1px, 1px);height: 1px;margin: -1px;overflow: hidden;padding: 0;position: absolute;width: 1px;}#sk-container-id-1 div.sk-estimator {font-family: monospace;background-color: #f0f8ff;border: 1px dotted black;border-radius: 0.25em;box-sizing: border-box;margin-bottom: 0.5em;}#sk-container-id-1 div.sk-estimator:hover {background-color: #d4ebff;}#sk-container-id-1 div.sk-parallel-item::after {content: \"\";width: 100%;border-bottom: 1px solid gray;flex-grow: 1;}#sk-container-id-1 div.sk-label:hover label.sk-toggleable__label {background-color: #d4ebff;}#sk-container-id-1 div.sk-serial::before {content: \"\";position: absolute;border-left: 1px solid gray;box-sizing: border-box;top: 0;bottom: 0;left: 50%;z-index: 0;}#sk-container-id-1 div.sk-serial {display: flex;flex-direction: column;align-items: center;background-color: white;padding-right: 0.2em;padding-left: 0.2em;position: relative;}#sk-container-id-1 div.sk-item {position: relative;z-index: 1;}#sk-container-id-1 div.sk-parallel {display: flex;align-items: stretch;justify-content: center;background-color: white;position: relative;}#sk-container-id-1 div.sk-item::before, #sk-container-id-1 div.sk-parallel-item::before {content: \"\";position: absolute;border-left: 1px solid gray;box-sizing: border-box;top: 0;bottom: 0;left: 50%;z-index: -1;}#sk-container-id-1 div.sk-parallel-item {display: flex;flex-direction: column;z-index: 1;position: relative;background-color: white;}#sk-container-id-1 div.sk-parallel-item:first-child::after {align-self: flex-end;width: 50%;}#sk-container-id-1 div.sk-parallel-item:last-child::after {align-self: flex-start;width: 50%;}#sk-container-id-1 div.sk-parallel-item:only-child::after {width: 0;}#sk-container-id-1 div.sk-dashed-wrapped {border: 1px dashed gray;margin: 0 0.4em 0.5em 0.4em;box-sizing: border-box;padding-bottom: 0.4em;background-color: white;}#sk-container-id-1 div.sk-label label {font-family: monospace;font-weight: bold;display: inline-block;line-height: 1.2em;}#sk-container-id-1 div.sk-label-container {text-align: center;}#sk-container-id-1 div.sk-container {/* jupyter's `normalize.less` sets `[hidden] { display: none; }` but bootstrap.min.css set `[hidden] { display: none !important; }` so we also need the `!important` here to be able to override the default hidden behavior on the sphinx rendered scikit-learn.org. See: https://github.com/scikit-learn/scikit-learn/issues/21755 */display: inline-block !important;position: relative;}#sk-container-id-1 div.sk-text-repr-fallback {display: none;}</style><div id=\"sk-container-id-1\" class=\"sk-top-container\"><div class=\"sk-text-repr-fallback\"><pre>IsolationForest(random_state=42)</pre><b>In a Jupyter environment, please rerun this cell to show the HTML representation or trust the notebook. <br />On GitHub, the HTML representation is unable to render, please try loading this page with nbviewer.org.</b></div><div class=\"sk-container\" hidden><div class=\"sk-item\"><div class=\"sk-estimator sk-toggleable\"><input class=\"sk-toggleable__control sk-hidden--visually\" id=\"sk-estimator-id-1\" type=\"checkbox\" checked><label for=\"sk-estimator-id-1\" class=\"sk-toggleable__label sk-toggleable__label-arrow\">IsolationForest</label><div class=\"sk-toggleable__content\"><pre>IsolationForest(random_state=42)</pre></div></div></div></div></div>"
      ],
      "text/plain": [
       "IsolationForest(random_state=42)"
      ]
     },
     "execution_count": 17,
     "metadata": {},
     "output_type": "execute_result"
    }
   ],
   "source": [
    "## Outliers detection using IsolationForest\n",
    "\n",
    "from sklearn.ensemble import IsolationForest\n",
    "\n",
    "IF = IsolationForest(n_estimators=100, random_state=42)\n",
    "IF.fit(df1)"
   ]
  },
  {
   "cell_type": "code",
   "execution_count": 18,
   "id": "a8568c6c",
   "metadata": {},
   "outputs": [
    {
     "data": {
      "text/plain": [
       "array([0.18936918, 0.187934  , 0.18890342, ..., 0.16109726, 0.16009733,\n",
       "       0.16465625])"
      ]
     },
     "execution_count": 18,
     "metadata": {},
     "output_type": "execute_result"
    }
   ],
   "source": [
    "avg_path_len_score = IF.decision_function(df1)\n",
    "avg_path_len_score"
   ]
  },
  {
   "cell_type": "code",
   "execution_count": 19,
   "id": "f62ff75e",
   "metadata": {},
   "outputs": [
    {
     "data": {
      "text/plain": [
       "array([1, 1, 1, ..., 1, 1, 1])"
      ]
     },
     "execution_count": 19,
     "metadata": {},
     "output_type": "execute_result"
    }
   ],
   "source": [
    "anomaly = IF.predict(df1)\n",
    "anomaly"
   ]
  },
  {
   "cell_type": "code",
   "execution_count": 20,
   "id": "aeafbeab",
   "metadata": {},
   "outputs": [
    {
     "data": {
      "text/plain": [
       "0"
      ]
     },
     "execution_count": 20,
     "metadata": {},
     "output_type": "execute_result"
    }
   ],
   "source": [
    "len(anomaly[anomaly == -1])"
   ]
  },
  {
   "cell_type": "code",
   "execution_count": 21,
   "id": "ab08e7e9",
   "metadata": {},
   "outputs": [
    {
     "data": {
      "text/plain": [
       "array([[ 0.        ,  0.        ,  0.        , ..., -0.8101654 ,\n",
       "         0.18936918,  1.        ],\n",
       "       [ 0.        ,  0.        ,  0.        , ..., -0.8101654 ,\n",
       "         0.187934  ,  1.        ],\n",
       "       [ 0.        ,  0.        ,  0.        , ..., -0.8101654 ,\n",
       "         0.18890342,  1.        ],\n",
       "       ...,\n",
       "       [ 0.        ,  0.        ,  0.        , ..., -0.2806444 ,\n",
       "         0.16109726,  1.        ],\n",
       "       [ 0.        ,  0.        ,  0.        , ..., -0.2806444 ,\n",
       "         0.16009733,  1.        ],\n",
       "       [ 0.        ,  0.        ,  0.        , ..., -0.2806444 ,\n",
       "         0.16465625,  1.        ]])"
      ]
     },
     "execution_count": 21,
     "metadata": {},
     "output_type": "execute_result"
    }
   ],
   "source": [
    "## stacking of 'df1' with 'avg_path_len_score' and 'anomaly'\n",
    "\n",
    "df2 = np.hstack(((df1), (avg_path_len_score).reshape(28242, 1), (anomaly).reshape(28242, 1)))\n",
    "df2"
   ]
  },
  {
   "cell_type": "code",
   "execution_count": 22,
   "id": "5c0b9691",
   "metadata": {},
   "outputs": [
    {
     "data": {
      "text/plain": [
       "(28242, 115)"
      ]
     },
     "execution_count": 22,
     "metadata": {},
     "output_type": "execute_result"
    }
   ],
   "source": [
    "df2.shape"
   ]
  },
  {
   "cell_type": "code",
   "execution_count": 23,
   "id": "647f8c64",
   "metadata": {},
   "outputs": [],
   "source": [
    "## Droping of rows having anomaly == -1\n",
    "\n",
    "df2 = np.delete(df2, np.where(df2[:,-1] == -1), 0)"
   ]
  },
  {
   "cell_type": "code",
   "execution_count": 24,
   "id": "593f9747",
   "metadata": {},
   "outputs": [
    {
     "data": {
      "text/plain": [
       "array([[ 0.        ,  0.        ,  0.        , ...,  0.6027959 ,\n",
       "        -1.54203721, -0.8101654 ],\n",
       "       [ 0.        ,  0.        ,  0.        , ...,  0.6027959 ,\n",
       "        -1.54203721, -0.8101654 ],\n",
       "       [ 0.        ,  0.        ,  0.        , ...,  0.6027959 ,\n",
       "        -1.54203721, -0.8101654 ],\n",
       "       ...,\n",
       "       [ 0.        ,  0.        ,  0.        , ..., -0.6009691 ,\n",
       "        -0.69880716, -0.2806444 ],\n",
       "       [ 0.        ,  0.        ,  0.        , ..., -0.6009691 ,\n",
       "        -0.69880716, -0.2806444 ],\n",
       "       [ 0.        ,  0.        ,  0.        , ..., -0.6009691 ,\n",
       "        -0.69880716, -0.2806444 ]])"
      ]
     },
     "execution_count": 24,
     "metadata": {},
     "output_type": "execute_result"
    }
   ],
   "source": [
    "## Droping 'avg_path_len_score' and 'anomaly' column\n",
    "\n",
    "df3 = np.delete(df2, [113,114], 1)\n",
    "df3"
   ]
  },
  {
   "cell_type": "code",
   "execution_count": 25,
   "id": "bedc3ae5",
   "metadata": {},
   "outputs": [
    {
     "data": {
      "text/plain": [
       "(28242, 113)"
      ]
     },
     "execution_count": 25,
     "metadata": {},
     "output_type": "execute_result"
    }
   ],
   "source": [
    "df3.shape"
   ]
  },
  {
   "cell_type": "markdown",
   "id": "8a159616",
   "metadata": {},
   "source": [
    "### Standard Scaler (Standardization)"
   ]
  },
  {
   "cell_type": "code",
   "execution_count": 26,
   "id": "fcf55734",
   "metadata": {},
   "outputs": [],
   "source": [
    "from sklearn.preprocessing import StandardScaler\n",
    "\n",
    "scaler = StandardScaler()\n",
    "\n",
    "# fit and transform the scaler \n",
    "df4 = scaler.fit_transform(df3[:,0:109])"
   ]
  },
  {
   "cell_type": "code",
   "execution_count": 27,
   "id": "5463dcec",
   "metadata": {},
   "outputs": [
    {
     "data": {
      "text/plain": [
       "array([[-6.36623988e-02, -7.64255969e-02, -1.14901120e-01, ...,\n",
       "        -1.54203721e+00, -8.10165400e-01,  3.66130000e+04],\n",
       "       [-6.36623988e-02, -7.64255969e-02, -1.14901120e-01, ...,\n",
       "        -1.54203721e+00, -8.10165400e-01,  6.66670000e+04],\n",
       "       [-6.36623988e-02, -7.64255969e-02, -1.14901120e-01, ...,\n",
       "        -1.54203721e+00, -8.10165400e-01,  2.33330000e+04],\n",
       "       ...,\n",
       "       [-6.36623988e-02, -7.64255969e-02, -1.14901120e-01, ...,\n",
       "        -6.98807162e-01, -2.80644400e-01,  1.31420000e+04],\n",
       "       [-6.36623988e-02, -7.64255969e-02, -1.14901120e-01, ...,\n",
       "        -6.98807162e-01, -2.80644400e-01,  2.22220000e+04],\n",
       "       [-6.36623988e-02, -7.64255969e-02, -1.14901120e-01, ...,\n",
       "        -6.98807162e-01, -2.80644400e-01,  2.28880000e+04]])"
      ]
     },
     "execution_count": 27,
     "metadata": {},
     "output_type": "execute_result"
    }
   ],
   "source": [
    "## stacking of standardized columns with the remaining columns\n",
    "\n",
    "df_final = np.hstack(((df4), df3[:,110:113], df3[:,109].reshape(-1, 1)))\n",
    "df_final"
   ]
  },
  {
   "cell_type": "code",
   "execution_count": 28,
   "id": "06a1e751",
   "metadata": {},
   "outputs": [
    {
     "data": {
      "text/plain": [
       "(28242, 113)"
      ]
     },
     "execution_count": 28,
     "metadata": {},
     "output_type": "execute_result"
    }
   ],
   "source": [
    "df_final.shape"
   ]
  },
  {
   "cell_type": "markdown",
   "id": "f27c9a4d",
   "metadata": {},
   "source": [
    "# Model"
   ]
  },
  {
   "cell_type": "code",
   "execution_count": 29,
   "id": "70940675",
   "metadata": {},
   "outputs": [],
   "source": [
    "## Train-Test split\n",
    "\n",
    "x = df_final[:,0:112]           \n",
    "y = df_final[:,-1]\n",
    "\n",
    "from sklearn.model_selection import train_test_split\n",
    "\n",
    "x_train,x_test,y_train,y_test = train_test_split(x,y,test_size=0.3,random_state=10)"
   ]
  },
  {
   "cell_type": "code",
   "execution_count": 30,
   "id": "47c0ba39",
   "metadata": {},
   "outputs": [
    {
     "data": {
      "text/plain": [
       "array([-0.0636624, -0.0636624, -0.0636624, ..., -0.0636624, -0.0636624,\n",
       "       -0.0636624])"
      ]
     },
     "execution_count": 30,
     "metadata": {},
     "output_type": "execute_result"
    }
   ],
   "source": [
    "x[:,0]"
   ]
  },
  {
   "cell_type": "markdown",
   "id": "405d7200",
   "metadata": {},
   "source": [
    "### PCA"
   ]
  },
  {
   "cell_type": "code",
   "execution_count": 31,
   "id": "23831882",
   "metadata": {},
   "outputs": [],
   "source": [
    "## initializing the pca\n",
    "\n",
    "from sklearn import decomposition\n",
    "pca = decomposition.PCA()"
   ]
  },
  {
   "cell_type": "code",
   "execution_count": 32,
   "id": "0ff35802",
   "metadata": {},
   "outputs": [
    {
     "data": {
      "image/png": "[encoded data removed]",
      "text/plain": [
       "<Figure size 432x288 with 1 Axes>"
      ]
     },
     "metadata": {
      "needs_background": "light"
     },
     "output_type": "display_data"
    }
   ],
   "source": [
    "## PCA for dimensionality redcution\n",
    "\n",
    "pca.n_components = 112\n",
    "x_train_pca = pca.fit_transform(x_train)\n",
    "x_test_pca = pca.transform(x_test)\n",
    "\n",
    "percentage_var_explained = pca.explained_variance_ / np.sum(pca.explained_variance_);\n",
    "\n",
    "cum_var_explained = np.cumsum(percentage_var_explained)\n",
    "\n",
    "# Plot the PCA spectrum\n",
    "plt.figure(1, figsize=(6, 4))\n",
    "\n",
    "plt.clf()\n",
    "plt.plot(cum_var_explained, linewidth=2)\n",
    "plt.axis('tight')\n",
    "plt.grid()\n",
    "plt.xlabel('n_components')\n",
    "plt.ylabel('Cumulative_explained_variance')\n",
    "plt.show()"
   ]
  },
  {
   "cell_type": "markdown",
   "id": "4245a99e",
   "metadata": {},
   "source": [
    "#### Observation :-\n",
    "Since, the 'Cumulative_explained_variance' shows linear relationship with the 'n_components' in the PCA that why, its not reasonable to apply PCA as we can see from the above plot also. If we apply PCA with n_components around 50 then it will explain less than 70% of the variance of the whole data."
   ]
  },
  {
   "cell_type": "markdown",
   "id": "708be16a",
   "metadata": {},
   "source": [
    "### Linear / Polynomial Regression"
   ]
  },
  {
   "cell_type": "code",
   "execution_count": 33,
   "id": "ee18c55e",
   "metadata": {},
   "outputs": [],
   "source": [
    "from sklearn.linear_model import LinearRegression\n",
    "\n",
    "from sklearn.preprocessing import PolynomialFeatures\n",
    "\n",
    "from sklearn.metrics import mean_absolute_error,mean_squared_error,r2_score"
   ]
  },
  {
   "cell_type": "code",
   "execution_count": 34,
   "id": "267b420c",
   "metadata": {},
   "outputs": [
    {
     "name": "stdout",
     "output_type": "stream",
     "text": [
      "--- For Test Dataset ---\n",
      "MAE 29560.91045089605\n",
      "MSE 1783894627.0277524\n",
      "RMSE 42236.176756753826\n",
      "R2 score 0.7517263042968824\n",
      "Adjusted R2 score 0.7484001495219124\n",
      "\n",
      "--- For Train Dataset ---\n",
      "MAE 29834.66684990498\n",
      "MSE 1833665770.3418365\n",
      "RMSE 42821.32378082019\n",
      "R2 score 0.7463873302940077\n",
      "Adjusted R2 score 0.7449422438569365\n"
     ]
    }
   ],
   "source": [
    "## Applying linear regression\n",
    "\n",
    "lr = LinearRegression()\n",
    "# training\n",
    "lr.fit(x_train,y_train)\n",
    "# prediction on Test Dataset\n",
    "y_pred_lr_testD = lr.predict(x_test)\n",
    "# prediction on Train Dataset\n",
    "y_pred_lr_trainD = lr.predict(x_train)\n",
    "\n",
    "print(\"--- For Test Dataset ---\")\n",
    "print(\"MAE\",mean_absolute_error(y_test,y_pred_lr_testD))\n",
    "print(\"MSE\",mean_squared_error(y_test,y_pred_lr_testD))\n",
    "print(\"RMSE\",np.sqrt(mean_squared_error(y_test,y_pred_lr_testD)))\n",
    "print(\"R2 score\",r2_score(y_test,y_pred_lr_testD))\n",
    "print(\"Adjusted R2 score\", 1 - ((1-r2_score(y_test,y_pred_lr_testD))*(x_test.shape[0]-1)/(x_test.shape[0]-x_test.shape[1]-1))) \n",
    "print()\n",
    "print(\"--- For Train Dataset ---\")\n",
    "print(\"MAE\",mean_absolute_error(y_train,y_pred_lr_trainD))\n",
    "print(\"MSE\",mean_squared_error(y_train,y_pred_lr_trainD))\n",
    "print(\"RMSE\",np.sqrt(mean_squared_error(y_train,y_pred_lr_trainD)))\n",
    "print(\"R2 score\",r2_score(y_train,y_pred_lr_trainD))\n",
    "print(\"Adjusted R2 score\", 1 - ((1-r2_score(y_train,y_pred_lr_trainD))*(x_train.shape[0]-1)/(x_train.shape[0]-x_train.shape[1]-1)))"
   ]
  },
  {
   "cell_type": "markdown",
   "id": "9e74bc91",
   "metadata": {},
   "source": [
    "#### Observations :-\n",
    "\n",
    "We can observe that the R2 score for both train and test dataset is resionable. So, it the case of neither underfitting nor overfitting."
   ]
  },
  {
   "cell_type": "code",
   "execution_count": 35,
   "id": "773f955b",
   "metadata": {},
   "outputs": [
    {
     "name": "stdout",
     "output_type": "stream",
     "text": [
      "--- For Test Dataset ---\n",
      "MAE 435034744369.9456\n",
      "MSE 1.6035594743231268e+27\n",
      "RMSE 40044468710711.18\n",
      "R2 score -2.231755345512107e+17\n",
      "Adjusted R2 score -9.309419639181964e+17\n",
      "\n",
      "--- For Train Dataset ---\n",
      "MAE 10354.943187566392\n",
      "MSE 327346024.075237\n",
      "RMSE 18092.70637785395\n",
      "R2 score 0.9547250647167361\n",
      "Adjusted R2 score 0.9328434816027943\n"
     ]
    }
   ],
   "source": [
    "## Applying Polynomial Regression\n",
    "    \n",
    "poly = PolynomialFeatures(degree=2, include_bias=True)   # if degree is 2 so every input column we get 3 transformed input column (i.e. if x is one input column then it give x^0, x^1 and x^2 column)\n",
    "                                                         # if include_bias=True then it give x^0 term but if include_bias=False then it don't give x^0 term. Since x^0 is associated with beta_knot which is known as bias term\n",
    "# polynomial transformation    \n",
    "x_train_trans = poly.fit_transform(x_train)              # number of degree should be appropriate otherwise there is the chance of overfitting or underfitting\n",
    "x_test_trans = poly.transform(x_test)\n",
    "    \n",
    "# training\n",
    "lr.fit(x_train_trans,y_train)\n",
    "# prediction on Test Dataset\n",
    "y_pred_poly_testD = lr.predict(x_test_trans)\n",
    "# prediction on Train Dataset\n",
    "y_pred_poly_trainD = lr.predict(x_train_trans)\n",
    "    \n",
    "print(\"--- For Test Dataset ---\")\n",
    "print(\"MAE\",mean_absolute_error(y_test,y_pred_poly_testD))\n",
    "print(\"MSE\",mean_squared_error(y_test,y_pred_poly_testD))\n",
    "print(\"RMSE\",np.sqrt(mean_squared_error(y_test,y_pred_poly_testD)))\n",
    "print(\"R2 score\",r2_score(y_test,y_pred_poly_testD))\n",
    "print(\"Adjusted R2 score\", 1 - ((1-r2_score(y_test,y_pred_poly_testD))*(x_test_trans.shape[0]-1)/(x_test_trans.shape[0]-x_test_trans.shape[1]-1))) \n",
    "print()\n",
    "print(\"--- For Train Dataset ---\")\n",
    "print(\"MAE\",mean_absolute_error(y_train,y_pred_poly_trainD))\n",
    "print(\"MSE\",mean_squared_error(y_train,y_pred_poly_trainD))\n",
    "print(\"RMSE\",np.sqrt(mean_squared_error(y_train,y_pred_poly_trainD)))\n",
    "print(\"R2 score\",r2_score(y_train,y_pred_poly_trainD))\n",
    "print(\"Adjusted R2 score\", 1 - ((1-r2_score(y_train,y_pred_poly_trainD))*(x_train_trans.shape[0]-1)/(x_train_trans.shape[0]-x_train_trans.shape[1]-1))) \n"
   ]
  },
  {
   "cell_type": "markdown",
   "id": "b04152e8",
   "metadata": {},
   "source": [
    "#### Observations :-\n",
    "\n",
    "We can observe that the R2 score for train data is high and for test data is low. So, it is the case of overfitting."
   ]
  },
  {
   "cell_type": "markdown",
   "id": "24258e41",
   "metadata": {},
   "source": [
    "### Support Vector Regressor"
   ]
  },
  {
   "cell_type": "code",
   "execution_count": 36,
   "id": "b1d59017",
   "metadata": {},
   "outputs": [
    {
     "name": "stdout",
     "output_type": "stream",
     "text": [
      "--- For Test Dataset ---\n",
      "MAE 44851.2464284077\n",
      "MSE 6398464539.068653\n",
      "RMSE 79990.40279351425\n",
      "R2 score 0.10949312034941983\n",
      "Adjusted R2 score 0.09756288464118235\n",
      "\n",
      "--- For Train Dataset ---\n",
      "MAE 45667.099279686816\n",
      "MSE 6512786502.876216\n",
      "RMSE 80701.83704771668\n",
      "R2 score 0.0992223343343146\n",
      "Adjusted R2 score 0.09408969806271528\n"
     ]
    }
   ],
   "source": [
    "## Applying Support Vector Regressor\n",
    "\n",
    "from sklearn.svm import SVR\n",
    "\n",
    "svr = SVR(kernel=\"linear\")\n",
    "# training\n",
    "svr.fit(x_train,y_train)\n",
    "# prediction on Test Dataset\n",
    "y_pred_svr_testD = svr.predict(x_test)\n",
    "# prediction on Train Dataset\n",
    "y_pred_svr_trainD = svr.predict(x_train)\n",
    "\n",
    "print(\"--- For Test Dataset ---\")\n",
    "print(\"MAE\",mean_absolute_error(y_test,y_pred_svr_testD))\n",
    "print(\"MSE\",mean_squared_error(y_test,y_pred_svr_testD))\n",
    "print(\"RMSE\",np.sqrt(mean_squared_error(y_test,y_pred_svr_testD)))\n",
    "print(\"R2 score\",r2_score(y_test,y_pred_svr_testD))\n",
    "print(\"Adjusted R2 score\", 1 - ((1-r2_score(y_test,y_pred_svr_testD))*(x_test.shape[0]-1)/(x_test.shape[0]-x_test.shape[1]-1))) \n",
    "print()\n",
    "print(\"--- For Train Dataset ---\")\n",
    "print(\"MAE\",mean_absolute_error(y_train,y_pred_svr_trainD))\n",
    "print(\"MSE\",mean_squared_error(y_train,y_pred_svr_trainD))\n",
    "print(\"RMSE\",np.sqrt(mean_squared_error(y_train,y_pred_svr_trainD)))\n",
    "print(\"R2 score\",r2_score(y_train,y_pred_svr_trainD))\n",
    "print(\"Adjusted R2 score\", 1 - ((1-r2_score(y_train,y_pred_svr_trainD))*(x_train.shape[0]-1)/(x_train.shape[0]-x_train.shape[1]-1)))"
   ]
  },
  {
   "cell_type": "markdown",
   "id": "1f8a4b53",
   "metadata": {},
   "source": [
    "### Random Forest Regressor"
   ]
  },
  {
   "cell_type": "code",
   "execution_count": 37,
   "id": "bc21fe7a",
   "metadata": {},
   "outputs": [
    {
     "name": "stdout",
     "output_type": "stream",
     "text": [
      "--- For Test Dataset ---\n",
      "MAE 5399.3866124493325\n",
      "MSE 177210889.51508757\n",
      "RMSE 13312.058049568728\n",
      "R2 score 0.9753366584594443\n",
      "Adjusted R2 score 0.9750062404866522\n",
      "\n",
      "--- For Train Dataset ---\n",
      "MAE 2102.6875245557508\n",
      "MSE 26664374.587207817\n",
      "RMSE 5163.755860534831\n",
      "R2 score 0.9963120742424931\n",
      "Adjusted R2 score 0.9962910604205131\n"
     ]
    }
   ],
   "source": [
    "from sklearn.ensemble import RandomForestRegressor\n",
    "\n",
    "rfr = RandomForestRegressor()\n",
    "# training\n",
    "rfr.fit(x_train,y_train)\n",
    "# prediction on Test Dataset\n",
    "y_pred_rfr_testD = rfr.predict(x_test)\n",
    "# prediction on Train Dataset\n",
    "y_pred_rfr_trainD = rfr.predict(x_train)\n",
    "\n",
    "print(\"--- For Test Dataset ---\")\n",
    "print(\"MAE\",mean_absolute_error(y_test,y_pred_rfr_testD))\n",
    "print(\"MSE\",mean_squared_error(y_test,y_pred_rfr_testD))\n",
    "print(\"RMSE\",np.sqrt(mean_squared_error(y_test,y_pred_rfr_testD)))\n",
    "print(\"R2 score\",r2_score(y_test,y_pred_rfr_testD))\n",
    "print(\"Adjusted R2 score\", 1 - ((1-r2_score(y_test,y_pred_rfr_testD))*(x_test.shape[0]-1)/(x_test.shape[0]-x_test.shape[1]-1))) \n",
    "print()\n",
    "print(\"--- For Train Dataset ---\")\n",
    "print(\"MAE\",mean_absolute_error(y_train,y_pred_rfr_trainD))\n",
    "print(\"MSE\",mean_squared_error(y_train,y_pred_rfr_trainD))\n",
    "print(\"RMSE\",np.sqrt(mean_squared_error(y_train,y_pred_rfr_trainD)))\n",
    "print(\"R2 score\",r2_score(y_train,y_pred_rfr_trainD))\n",
    "print(\"Adjusted R2 score\", 1 - ((1-r2_score(y_train,y_pred_rfr_trainD))*(x_train.shape[0]-1)/(x_train.shape[0]-x_train.shape[1]-1)))"
   ]
  },
  {
   "cell_type": "markdown",
   "id": "a1eb5d2c",
   "metadata": {},
   "source": [
    "### Gradient Boosting Regressor"
   ]
  },
  {
   "cell_type": "code",
   "execution_count": 38,
   "id": "42ae4d8f",
   "metadata": {},
   "outputs": [
    {
     "name": "stdout",
     "output_type": "stream",
     "text": [
      "--- For Test Dataset ---\n",
      "MAE 24897.241377953585\n",
      "MSE 1652064330.9950194\n",
      "RMSE 40645.59423842908\n",
      "R2 score 0.7700737976441862\n",
      "Adjusted R2 score 0.7669934466078403\n",
      "\n",
      "--- For Train Dataset ---\n",
      "MAE 24834.617735953936\n",
      "MSE 1664300156.552293\n",
      "RMSE 40795.8350392818\n",
      "R2 score 0.7698121365832982\n",
      "Adjusted R2 score 0.768500524825938\n"
     ]
    }
   ],
   "source": [
    "from sklearn.ensemble import GradientBoostingRegressor\n",
    "\n",
    "gbr = GradientBoostingRegressor()\n",
    "# training\n",
    "gbr.fit(x_train,y_train)\n",
    "# prediction on Test Dataset\n",
    "y_pred_gbr_testD = gbr.predict(x_test)\n",
    "# prediction on Train Dataset\n",
    "y_pred_gbr_trainD = gbr.predict(x_train)\n",
    "\n",
    "print(\"--- For Test Dataset ---\")\n",
    "print(\"MAE\",mean_absolute_error(y_test,y_pred_gbr_testD))\n",
    "print(\"MSE\",mean_squared_error(y_test,y_pred_gbr_testD))\n",
    "print(\"RMSE\",np.sqrt(mean_squared_error(y_test,y_pred_gbr_testD)))\n",
    "print(\"R2 score\",r2_score(y_test,y_pred_gbr_testD))\n",
    "print(\"Adjusted R2 score\", 1 - ((1-r2_score(y_test,y_pred_gbr_testD))*(x_test.shape[0]-1)/(x_test.shape[0]-x_test.shape[1]-1))) \n",
    "print()\n",
    "print(\"--- For Train Dataset ---\")\n",
    "print(\"MAE\",mean_absolute_error(y_train,y_pred_gbr_trainD))\n",
    "print(\"MSE\",mean_squared_error(y_train,y_pred_gbr_trainD))\n",
    "print(\"RMSE\",np.sqrt(mean_squared_error(y_train,y_pred_gbr_trainD)))\n",
    "print(\"R2 score\",r2_score(y_train,y_pred_gbr_trainD))\n",
    "print(\"Adjusted R2 score\", 1 - ((1-r2_score(y_train,y_pred_gbr_trainD))*(x_train.shape[0]-1)/(x_train.shape[0]-x_train.shape[1]-1)))"
   ]
  },
  {
   "cell_type": "markdown",
   "id": "b2316954",
   "metadata": {},
   "source": [
    "### ANN"
   ]
  },
  {
   "cell_type": "code",
   "execution_count": 39,
   "id": "4c7b2c96",
   "metadata": {},
   "outputs": [],
   "source": [
    "import tensorflow\n",
    "from tensorflow import keras\n",
    "from tensorflow.keras import Sequential\n",
    "from tensorflow.keras.layers import Dense, Dropout"
   ]
  },
  {
   "cell_type": "code",
   "execution_count": 40,
   "id": "be363218",
   "metadata": {},
   "outputs": [
    {
     "name": "stdout",
     "output_type": "stream",
     "text": [
      "Model: \"sequential\"\n",
      "_________________________________________________________________\n",
      " Layer (type)                Output Shape              Param #   \n",
      "=================================================================\n",
      " dense (Dense)               (None, 112)               12656     \n",
      "                                                                 \n",
      " dropout (Dropout)           (None, 112)               0         \n",
      "                                                                 \n",
      " dense_1 (Dense)             (None, 50)                5650      \n",
      "                                                                 \n",
      " dropout_1 (Dropout)         (None, 50)                0         \n",
      "                                                                 \n",
      " dense_2 (Dense)             (None, 1)                 51        \n",
      "                                                                 \n",
      "=================================================================\n",
      "Total params: 18,357\n",
      "Trainable params: 18,357\n",
      "Non-trainable params: 0\n",
      "_________________________________________________________________\n"
     ]
    }
   ],
   "source": [
    "ann = Sequential()\n",
    "\n",
    "ann.add(Dense(112, activation = 'relu', input_dim = 112))\n",
    "ann.add(Dropout(0.2))\n",
    "ann.add(Dense(50, activation = 'relu'))\n",
    "ann.add(Dropout(0.2))\n",
    "ann.add(Dense(1, activation = 'linear'))         # for linear regression, activation function of output layer is always linear\n",
    "\n",
    "ann.summary()"
   ]
  },
  {
   "cell_type": "code",
   "execution_count": 41,
   "id": "c0b621fb",
   "metadata": {},
   "outputs": [],
   "source": [
    "ann.compile(loss = 'mean_squared_error', optimizer = 'Adam')"
   ]
  },
  {
   "cell_type": "code",
   "execution_count": 42,
   "id": "3f3da58b",
   "metadata": {},
   "outputs": [
    {
     "name": "stdout",
     "output_type": "stream",
     "text": [
      "Epoch 1/100\n",
      "433/433 [==============================] - 3s 5ms/step - loss: 12909400064.0000 - val_loss: 12454408192.0000\n",
      "Epoch 2/100\n",
      "433/433 [==============================] - 2s 4ms/step - loss: 9880654848.0000 - val_loss: 7372976640.0000\n",
      "Epoch 3/100\n",
      "433/433 [==============================] - 2s 4ms/step - loss: 5099719168.0000 - val_loss: 3764783104.0000\n",
      "Epoch 4/100\n",
      "433/433 [==============================] - 2s 4ms/step - loss: 3130153984.0000 - val_loss: 2743502592.0000\n",
      "Epoch 5/100\n",
      "433/433 [==============================] - 2s 4ms/step - loss: 2509028352.0000 - val_loss: 2318000896.0000\n",
      "Epoch 6/100\n",
      "433/433 [==============================] - 2s 4ms/step - loss: 2234348288.0000 - val_loss: 2094192768.0000\n",
      "Epoch 7/100\n",
      "433/433 [==============================] - 2s 4ms/step - loss: 2084101376.0000 - val_loss: 1964043904.0000\n",
      "Epoch 8/100\n",
      "433/433 [==============================] - 2s 4ms/step - loss: 1952986496.0000 - val_loss: 1874242560.0000\n",
      "Epoch 9/100\n",
      "433/433 [==============================] - 2s 4ms/step - loss: 1892100096.0000 - val_loss: 1798051840.0000\n",
      "Epoch 10/100\n",
      "433/433 [==============================] - 2s 4ms/step - loss: 1847227136.0000 - val_loss: 1735580672.0000\n",
      "Epoch 11/100\n",
      "433/433 [==============================] - 2s 4ms/step - loss: 1790014848.0000 - val_loss: 1679480576.0000\n",
      "Epoch 12/100\n",
      "433/433 [==============================] - 2s 4ms/step - loss: 1714136576.0000 - val_loss: 1627266048.0000\n",
      "Epoch 13/100\n",
      "433/433 [==============================] - 2s 4ms/step - loss: 1697632768.0000 - val_loss: 1581160192.0000\n",
      "Epoch 14/100\n",
      "433/433 [==============================] - 2s 4ms/step - loss: 1651162240.0000 - val_loss: 1537862656.0000\n",
      "Epoch 15/100\n",
      "433/433 [==============================] - 2s 4ms/step - loss: 1605183488.0000 - val_loss: 1493738624.0000\n",
      "Epoch 16/100\n",
      "433/433 [==============================] - 2s 4ms/step - loss: 1570842752.0000 - val_loss: 1454605696.0000\n",
      "Epoch 17/100\n",
      "433/433 [==============================] - 2s 4ms/step - loss: 1550393600.0000 - val_loss: 1414594816.0000\n",
      "Epoch 18/100\n",
      "433/433 [==============================] - 2s 4ms/step - loss: 1526102400.0000 - val_loss: 1377812352.0000\n",
      "Epoch 19/100\n",
      "433/433 [==============================] - 2s 4ms/step - loss: 1459442560.0000 - val_loss: 1338317824.0000\n",
      "Epoch 20/100\n",
      "433/433 [==============================] - 2s 4ms/step - loss: 1451095168.0000 - val_loss: 1312279040.0000\n",
      "Epoch 21/100\n",
      "433/433 [==============================] - 2s 4ms/step - loss: 1408457984.0000 - val_loss: 1274561152.0000\n",
      "Epoch 22/100\n",
      "433/433 [==============================] - 2s 4ms/step - loss: 1372238976.0000 - val_loss: 1246374656.0000\n",
      "Epoch 23/100\n",
      "433/433 [==============================] - 2s 4ms/step - loss: 1346441472.0000 - val_loss: 1222394496.0000\n",
      "Epoch 24/100\n",
      "433/433 [==============================] - 2s 4ms/step - loss: 1316884096.0000 - val_loss: 1190355328.0000\n",
      "Epoch 25/100\n",
      "433/433 [==============================] - 2s 4ms/step - loss: 1306575360.0000 - val_loss: 1167039488.0000\n",
      "Epoch 26/100\n",
      "433/433 [==============================] - 2s 4ms/step - loss: 1273195136.0000 - val_loss: 1148283520.0000\n",
      "Epoch 27/100\n",
      "433/433 [==============================] - 2s 4ms/step - loss: 1251487744.0000 - val_loss: 1126085888.0000\n",
      "Epoch 28/100\n",
      "433/433 [==============================] - 2s 4ms/step - loss: 1228907136.0000 - val_loss: 1105000576.0000\n",
      "Epoch 29/100\n",
      "433/433 [==============================] - 2s 4ms/step - loss: 1223398272.0000 - val_loss: 1088548480.0000\n",
      "Epoch 30/100\n",
      "433/433 [==============================] - 2s 4ms/step - loss: 1211404928.0000 - val_loss: 1070918720.0000\n",
      "Epoch 31/100\n",
      "433/433 [==============================] - 2s 5ms/step - loss: 1200563584.0000 - val_loss: 1054687808.0000\n",
      "Epoch 32/100\n",
      "433/433 [==============================] - 2s 4ms/step - loss: 1176693120.0000 - val_loss: 1037826816.0000\n",
      "Epoch 33/100\n",
      "433/433 [==============================] - 2s 4ms/step - loss: 1146578048.0000 - val_loss: 1023163392.0000\n",
      "Epoch 34/100\n",
      "433/433 [==============================] - 2s 4ms/step - loss: 1128052608.0000 - val_loss: 1011253184.0000\n",
      "Epoch 35/100\n",
      "433/433 [==============================] - 2s 4ms/step - loss: 1142589312.0000 - val_loss: 994715392.0000\n",
      "Epoch 36/100\n",
      "433/433 [==============================] - 2s 4ms/step - loss: 1118762624.0000 - val_loss: 982336384.0000\n",
      "Epoch 37/100\n",
      "433/433 [==============================] - 2s 4ms/step - loss: 1117384448.0000 - val_loss: 969536576.0000\n",
      "Epoch 38/100\n",
      "433/433 [==============================] - 2s 4ms/step - loss: 1076399616.0000 - val_loss: 965329664.0000\n",
      "Epoch 39/100\n",
      "433/433 [==============================] - 2s 4ms/step - loss: 1096357120.0000 - val_loss: 953472640.0000\n",
      "Epoch 40/100\n",
      "433/433 [==============================] - 2s 4ms/step - loss: 1081774464.0000 - val_loss: 941590400.0000\n",
      "Epoch 41/100\n",
      "433/433 [==============================] - 2s 4ms/step - loss: 1058279296.0000 - val_loss: 930434240.0000\n",
      "Epoch 42/100\n",
      "433/433 [==============================] - 2s 4ms/step - loss: 1074286592.0000 - val_loss: 923825536.0000\n",
      "Epoch 43/100\n",
      "433/433 [==============================] - 2s 4ms/step - loss: 1053232512.0000 - val_loss: 915034048.0000\n",
      "Epoch 44/100\n",
      "433/433 [==============================] - 2s 4ms/step - loss: 1018031040.0000 - val_loss: 905539264.0000\n",
      "Epoch 45/100\n",
      "433/433 [==============================] - 2s 4ms/step - loss: 1036657408.0000 - val_loss: 896980288.0000\n",
      "Epoch 46/100\n",
      "433/433 [==============================] - 2s 4ms/step - loss: 1017854656.0000 - val_loss: 889991808.0000\n",
      "Epoch 47/100\n",
      "433/433 [==============================] - 2s 4ms/step - loss: 1008963776.0000 - val_loss: 884048512.0000\n",
      "Epoch 48/100\n",
      "433/433 [==============================] - 2s 4ms/step - loss: 1026111872.0000 - val_loss: 875731328.0000\n",
      "Epoch 49/100\n",
      "433/433 [==============================] - 2s 4ms/step - loss: 1015950592.0000 - val_loss: 869315840.0000\n",
      "Epoch 50/100\n",
      "433/433 [==============================] - 2s 4ms/step - loss: 1013428032.0000 - val_loss: 866591680.0000\n",
      "Epoch 51/100\n",
      "433/433 [==============================] - 2s 4ms/step - loss: 976052160.0000 - val_loss: 860618432.0000\n",
      "Epoch 52/100\n",
      "433/433 [==============================] - 2s 4ms/step - loss: 983220416.0000 - val_loss: 852353472.0000\n",
      "Epoch 53/100\n",
      "433/433 [==============================] - 2s 4ms/step - loss: 975985088.0000 - val_loss: 844062016.0000\n",
      "Epoch 54/100\n",
      "433/433 [==============================] - 2s 4ms/step - loss: 957293440.0000 - val_loss: 834109568.0000\n",
      "Epoch 55/100\n",
      "433/433 [==============================] - 2s 4ms/step - loss: 952129920.0000 - val_loss: 827230528.0000\n",
      "Epoch 56/100\n",
      "433/433 [==============================] - 2s 4ms/step - loss: 975543360.0000 - val_loss: 821593216.0000\n",
      "Epoch 57/100\n",
      "433/433 [==============================] - 2s 4ms/step - loss: 949448128.0000 - val_loss: 814993600.0000\n",
      "Epoch 58/100\n",
      "433/433 [==============================] - 2s 4ms/step - loss: 952738240.0000 - val_loss: 809115520.0000\n",
      "Epoch 59/100\n",
      "433/433 [==============================] - 2s 4ms/step - loss: 916303872.0000 - val_loss: 802813568.0000\n",
      "Epoch 60/100\n",
      "433/433 [==============================] - 2s 4ms/step - loss: 951404928.0000 - val_loss: 797489344.0000\n",
      "Epoch 61/100\n",
      "433/433 [==============================] - 2s 4ms/step - loss: 931905408.0000 - val_loss: 792000256.0000\n",
      "Epoch 62/100\n",
      "433/433 [==============================] - 2s 4ms/step - loss: 910899456.0000 - val_loss: 786118784.0000\n",
      "Epoch 63/100\n",
      "433/433 [==============================] - 2s 4ms/step - loss: 907255360.0000 - val_loss: 779227648.0000\n",
      "Epoch 64/100\n",
      "433/433 [==============================] - 2s 4ms/step - loss: 903698880.0000 - val_loss: 776739520.0000\n",
      "Epoch 65/100\n",
      "433/433 [==============================] - 2s 4ms/step - loss: 891378880.0000 - val_loss: 770128512.0000\n",
      "Epoch 66/100\n",
      "433/433 [==============================] - 2s 4ms/step - loss: 874546880.0000 - val_loss: 762874944.0000\n",
      "Epoch 67/100\n",
      "433/433 [==============================] - 2s 4ms/step - loss: 887253376.0000 - val_loss: 757322496.0000\n",
      "Epoch 68/100\n",
      "433/433 [==============================] - 2s 4ms/step - loss: 892889664.0000 - val_loss: 752669568.0000\n",
      "Epoch 69/100\n",
      "433/433 [==============================] - 2s 4ms/step - loss: 893603648.0000 - val_loss: 744873728.0000\n"
     ]
    },
    {
     "name": "stdout",
     "output_type": "stream",
     "text": [
      "Epoch 70/100\n",
      "433/433 [==============================] - 2s 4ms/step - loss: 876915520.0000 - val_loss: 739106560.0000\n",
      "Epoch 71/100\n",
      "433/433 [==============================] - 2s 4ms/step - loss: 871243392.0000 - val_loss: 737051264.0000\n",
      "Epoch 72/100\n",
      "433/433 [==============================] - 2s 4ms/step - loss: 858500096.0000 - val_loss: 726764928.0000\n",
      "Epoch 73/100\n",
      "433/433 [==============================] - 2s 4ms/step - loss: 849188672.0000 - val_loss: 720411392.0000\n",
      "Epoch 74/100\n",
      "433/433 [==============================] - 2s 4ms/step - loss: 854291264.0000 - val_loss: 716250048.0000\n",
      "Epoch 75/100\n",
      "433/433 [==============================] - 2s 4ms/step - loss: 835957248.0000 - val_loss: 713742144.0000\n",
      "Epoch 76/100\n",
      "433/433 [==============================] - 2s 4ms/step - loss: 861027968.0000 - val_loss: 707384896.0000\n",
      "Epoch 77/100\n",
      "433/433 [==============================] - 2s 4ms/step - loss: 825936704.0000 - val_loss: 700300928.0000\n",
      "Epoch 78/100\n",
      "433/433 [==============================] - 2s 4ms/step - loss: 851767360.0000 - val_loss: 695009216.0000\n",
      "Epoch 79/100\n",
      "433/433 [==============================] - 2s 4ms/step - loss: 811861888.0000 - val_loss: 694824384.0000\n",
      "Epoch 80/100\n",
      "433/433 [==============================] - 2s 4ms/step - loss: 836934720.0000 - val_loss: 684453696.0000\n",
      "Epoch 81/100\n",
      "433/433 [==============================] - 2s 4ms/step - loss: 827500288.0000 - val_loss: 684208576.0000\n",
      "Epoch 82/100\n",
      "433/433 [==============================] - 2s 4ms/step - loss: 831374912.0000 - val_loss: 678365056.0000\n",
      "Epoch 83/100\n",
      "433/433 [==============================] - 2s 4ms/step - loss: 805611008.0000 - val_loss: 670525120.0000\n",
      "Epoch 84/100\n",
      "433/433 [==============================] - 2s 4ms/step - loss: 808992128.0000 - val_loss: 666976384.0000\n",
      "Epoch 85/100\n",
      "433/433 [==============================] - 2s 4ms/step - loss: 796678784.0000 - val_loss: 660200960.0000\n",
      "Epoch 86/100\n",
      "433/433 [==============================] - 2s 4ms/step - loss: 786730496.0000 - val_loss: 656694336.0000\n",
      "Epoch 87/100\n",
      "433/433 [==============================] - 2s 4ms/step - loss: 782474880.0000 - val_loss: 650607168.0000\n",
      "Epoch 88/100\n",
      "433/433 [==============================] - 2s 4ms/step - loss: 786286720.0000 - val_loss: 646833728.0000\n",
      "Epoch 89/100\n",
      "433/433 [==============================] - 2s 4ms/step - loss: 796657920.0000 - val_loss: 644888256.0000\n",
      "Epoch 90/100\n",
      "433/433 [==============================] - 2s 4ms/step - loss: 772514752.0000 - val_loss: 642211136.0000\n",
      "Epoch 91/100\n",
      "433/433 [==============================] - 2s 4ms/step - loss: 783794112.0000 - val_loss: 635212224.0000\n",
      "Epoch 92/100\n",
      "433/433 [==============================] - 2s 4ms/step - loss: 785543488.0000 - val_loss: 631756480.0000\n",
      "Epoch 93/100\n",
      "433/433 [==============================] - 2s 4ms/step - loss: 768564672.0000 - val_loss: 624012992.0000\n",
      "Epoch 94/100\n",
      "433/433 [==============================] - 2s 4ms/step - loss: 780773248.0000 - val_loss: 621418240.0000\n",
      "Epoch 95/100\n",
      "433/433 [==============================] - 2s 4ms/step - loss: 751032960.0000 - val_loss: 620110912.0000\n",
      "Epoch 96/100\n",
      "433/433 [==============================] - 2s 4ms/step - loss: 759160896.0000 - val_loss: 612346880.0000\n",
      "Epoch 97/100\n",
      "433/433 [==============================] - 2s 4ms/step - loss: 760460672.0000 - val_loss: 607415424.0000\n",
      "Epoch 98/100\n",
      "433/433 [==============================] - 2s 5ms/step - loss: 738295040.0000 - val_loss: 603992704.0000\n",
      "Epoch 99/100\n",
      "433/433 [==============================] - 2s 5ms/step - loss: 763261568.0000 - val_loss: 598457280.0000\n",
      "Epoch 100/100\n",
      "433/433 [==============================] - 2s 4ms/step - loss: 760054848.0000 - val_loss: 591219968.0000\n"
     ]
    }
   ],
   "source": [
    "history = ann.fit(x_train, y_train, epochs = 100, validation_split = 0.3)"
   ]
  },
  {
   "cell_type": "code",
   "execution_count": 43,
   "id": "cbe8ada8",
   "metadata": {},
   "outputs": [
    {
     "name": "stdout",
     "output_type": "stream",
     "text": [
      "265/265 [==============================] - 1s 2ms/step\n"
     ]
    },
    {
     "data": {
      "text/plain": [
       "0.9215656492720136"
      ]
     },
     "execution_count": 43,
     "metadata": {},
     "output_type": "execute_result"
    }
   ],
   "source": [
    "y_pred_ann = ann.predict(x_test) \n",
    "r2_score(y_test, y_pred_ann)"
   ]
  },
  {
   "cell_type": "code",
   "execution_count": 44,
   "id": "45dd9e72",
   "metadata": {},
   "outputs": [
    {
     "data": {
      "image/png": "[encoded data removed]",
      "text/plain": [
       "<Figure size 432x288 with 1 Axes>"
      ]
     },
     "metadata": {
      "needs_background": "light"
     },
     "output_type": "display_data"
    }
   ],
   "source": [
    "plt.plot(history.history['loss'], label=\"val_train\")    # it gives how our training loss reduces while going from 1 to 100 epochs\n",
    "plt.plot(history.history['val_loss'], label=\"val_test\")\n",
    "plt.xlabel(\"epoch\")\n",
    "plt.ylabel(\"MSE\")\n",
    "plt.legend()\n",
    "plt.show()"
   ]
  },
  {
   "cell_type": "markdown",
   "id": "20f21fb6",
   "metadata": {},
   "source": [
    "#### Observation :-\n",
    "\n",
    "Random Forest Regressor perform best."
   ]
  },
  {
   "cell_type": "code",
   "execution_count": null,
   "id": "7634e6e4",
   "metadata": {},
   "outputs": [],
   "source": []
  }
 ],
 "metadata": {
  "kernelspec": {
   "display_name": "Python 3 (ipykernel)",
   "language": "python",
   "name": "python3"
  },
  "language_info": {
   "codemirror_mode": {
    "name": "ipython",
    "version": 3
   },
   "file_extension": ".py",
   "mimetype": "text/x-python",
   "name": "python",
   "nbconvert_exporter": "python",
   "pygments_lexer": "ipython3",
   "version": "3.10.4"
  }
 },
 "nbformat": 4,
 "nbformat_minor": 5
}
